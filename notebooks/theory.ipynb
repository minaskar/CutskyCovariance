{
 "cells": [
  {
   "cell_type": "markdown",
   "metadata": {},
   "source": [
    "# Analytic calculation of cutsky covariance"
   ]
  },
  {
   "cell_type": "markdown",
   "metadata": {},
   "source": [
    "Following [Grieb et al. 2016](https://arxiv.org/abs/1509.04293), the Gaussian covariance between multipoles\n",
    "can be expressed in the form\n",
    "\n",
    "$$\n",
    "  C_{\\ell_1 \\ell_2}(k_i, k_j) = \\frac{2 (2\\pi)^4}{V^2_{k_i}} \\delta_{ij}\n",
    "          \\int_{k_i - \\Delta k/2}^{k_i + \\Delta k /2} \\sigma^2_{\\ell_1 \\ell_2}(k) k^2 \\mathrm{d}k,\n",
    "$$\n",
    "where the volume of the shell in $k$-space is $V_{k_i} = 4\\pi[(k_i+\\Delta k/2)^3 -(k_i-\\Delta k/2)^3)^3]/3$,\n",
    "and $\\sigma_{\\ell_1 \\ell_2}^2(k)$ is the per-mode covariance. In the presence of a varying\n",
    "$\\bar{n}(z)$, this is given by (see [Yamamoto et al. 2006](https://arxiv.org/abs/astro-ph/0505115), equation 22)\n",
    "\n",
    "$$\n",
    "  \\sigma^2_{\\ell_1 \\ell_2}(k) = \\frac{(2\\ell_1+1)(2\\ell_2+1)}{A^2}\n",
    "          \\int_{-1}^1 \\mathrm{d} \\mu \\int_{V_s} \\mathrm{d} \\boldsymbol{r} \\;  \\bar{n}^4(\\boldsymbol{r}) \n",
    "                     w^4(\\boldsymbol{r}) \\left[P(k,\\mu,z) + \\bar{n}^{-1}(\\boldsymbol{r}) \\right]^2 \\mathcal{L}_{\\ell_1}(\\mu) \\mathcal{L}_{\\ell_2}(\\mu).\n",
    "$$\n",
    "where $w$ are the redshift weights, $A$ is the power spectrum normalization,\n",
    "as given by \n",
    "\n",
    "$$\n",
    "A = \\int_{V_s} \\mathrm{d}\\boldsymbol{r} \\; \\bar{n}^2  (\\boldsymbol{r}) w^2(\\boldsymbol{r}).\n",
    "$$\n",
    "The comoving volume element is given by\n",
    "\n",
    "$$\n",
    "  d\\boldsymbol{r} = 4\\pi f_\\mathrm{sky} \\frac{(1+z)^2 D_A^2(z)}{H(z)} \\; c \\; \\mathrm{d} z,\n",
    "$$\n",
    "where $f_\\mathrm{sky}$ is the fraction of sky area covered by the survey, $c$\n",
    "is the speed of light, $D_A(z)$ is\n",
    "the angular diameter distance at redshift $z$, and $H(z)$ is the Hubble\n",
    "parameter at $z$. So, we can express the covariance in terms\n",
    "of redshift as\n",
    "\n",
    "$$\n",
    "  \\sigma^2_{\\ell_1 \\ell_2}(k) = 4\\pi f_\\mathrm{sky} c \\frac{(2\\ell_1+1)(2\\ell_2+1)}{A^2}\n",
    "                    \\int_{-1}^1 \\mathrm{d} \\mu \\int_{z_\\mathrm{min}}^{z_\\mathrm{max}}\\mathrm{d} z \n",
    "                    \\frac{(1+z)^2 D_A^2(z)}{H(z)} \\bar{n}^4(z) w^4(z) \n",
    "                     \\left[P(k,\\mu,z) + \\bar{n}^{-1}(z)\\right]^2 \\mathcal{L}_{\\ell_1}(\\mu) \\mathcal{L}_{\\ell_2}(\\mu),\n",
    "$$\n",
    "where $z_\\mathrm{min}$ and $z_\\mathrm{max}$ are the minimum and maximum redshift values of the\n",
    "survey.\n",
    "\n",
    "In the case when $\\bar{n}$ = constant, $w=1$, $P(k,\\mu,z) = P(k)$, and the limit of small $k$ bins, we obtain the usual result, \n",
    "\n",
    "$$\n",
    "C_{00}(k) = \\frac{2 (2\\pi)^3}{V_k V_s} [P(k) + \\bar{n}^{-1}]^2.\n",
    "$$\n",
    "\n",
    "Numerically, we evaluate these equations using discrete sums over a grid of ($k$, $\\mu$, $z$)."
   ]
  },
  {
   "cell_type": "code",
   "execution_count": null,
   "metadata": {
    "collapsed": true
   },
   "outputs": [],
   "source": []
  }
 ],
 "metadata": {
  "kernelspec": {
   "display_name": "Python 3",
   "language": "python",
   "name": "python3"
  },
  "language_info": {
   "codemirror_mode": {
    "name": "ipython",
    "version": 3
   },
   "file_extension": ".py",
   "mimetype": "text/x-python",
   "name": "python",
   "nbconvert_exporter": "python",
   "pygments_lexer": "ipython3",
   "version": "3.6.2"
  }
 },
 "nbformat": 4,
 "nbformat_minor": 2
}
